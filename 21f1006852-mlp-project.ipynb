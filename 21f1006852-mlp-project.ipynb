{
 "cells": [
  {
   "cell_type": "code",
   "execution_count": 1,
   "id": "9e385e0b",
   "metadata": {
    "_cell_guid": "b1076dfc-b9ad-4769-8c92-a6c4dae69d19",
    "_uuid": "8f2839f25d086af736a60e9eeb907d3b93b6e0e5",
    "execution": {
     "iopub.execute_input": "2022-09-03T16:48:56.863922Z",
     "iopub.status.busy": "2022-09-03T16:48:56.863324Z",
     "iopub.status.idle": "2022-09-03T16:48:56.881503Z",
     "shell.execute_reply": "2022-09-03T16:48:56.879935Z"
    },
    "papermill": {
     "duration": 0.031254,
     "end_time": "2022-09-03T16:48:56.884939",
     "exception": false,
     "start_time": "2022-09-03T16:48:56.853685",
     "status": "completed"
    },
    "tags": []
   },
   "outputs": [
    {
     "name": "stdout",
     "output_type": "stream",
     "text": [
      "/kaggle/input/students-drop-out-prediction/train.csv\n",
      "/kaggle/input/students-drop-out-prediction/test.csv\n"
     ]
    }
   ],
   "source": [
    "# This Python 3 environment comes with many helpful analytics libraries installed\n",
    "# It is defined by the kaggle/python Docker image: https://github.com/kaggle/docker-python\n",
    "# For example, here's several helpful packages to load\n",
    "\n",
    "import numpy as np # linear algebra\n",
    "import pandas as pd # data processing, CSV file I/O (e.g. pd.read_csv)\n",
    "\n",
    "# Input data files are available in the read-only \"../input/\" directory\n",
    "# For example, running this (by clicking run or pressing Shift+Enter) will list all files under the input directory\n",
    "\n",
    "import os\n",
    "for dirname, _, filenames in os.walk('/kaggle/input'):\n",
    "    for filename in filenames:\n",
    "        print(os.path.join(dirname, filename))\n",
    "\n",
    "# You can write up to 20GB to the current directory (/kaggle/working/) that gets preserved as output when you create a version using \"Save & Run All\" \n",
    "# You can also write temporary files to /kaggle/temp/, but they won't be saved outside of the current session"
   ]
  },
  {
   "cell_type": "code",
   "execution_count": 2,
   "id": "b4dab298",
   "metadata": {
    "execution": {
     "iopub.execute_input": "2022-09-03T16:48:56.900551Z",
     "iopub.status.busy": "2022-09-03T16:48:56.900028Z",
     "iopub.status.idle": "2022-09-03T16:48:58.861071Z",
     "shell.execute_reply": "2022-09-03T16:48:58.859623Z"
    },
    "papermill": {
     "duration": 1.972338,
     "end_time": "2022-09-03T16:48:58.864447",
     "exception": false,
     "start_time": "2022-09-03T16:48:56.892109",
     "status": "completed"
    },
    "tags": []
   },
   "outputs": [],
   "source": [
    "# import basic libraries\n",
    "import numpy as np\n",
    "import pandas as pd\n",
    "import seaborn as sns\n",
    "import matplotlib.pyplot as plt\n",
    "\n",
    "# importing necessary libraries\n",
    "from sklearn.model_selection import train_test_split, cross_validate, cross_val_predict, cross_val_score, GridSearchCV\n",
    "from sklearn.ensemble import RandomForestClassifier, GradientBoostingClassifier, AdaBoostClassifier\n",
    "from sklearn.preprocessing import MinMaxScaler, StandardScaler\n",
    "from sklearn.linear_model  import SGDClassifier, RidgeClassifier, LogisticRegression \n",
    "from sklearn.pipeline import make_pipeline\n",
    "from sklearn.metrics import confusion_matrix, classification_report, accuracy_score, precision_score, f1_score, recall_score, roc_auc_score, roc_curve\n",
    "from sklearn.naive_bayes import MultinomialNB\n",
    "from sklearn.neural_network import MLPClassifier\n",
    "import xgboost as xg\n",
    "\n",
    "\n",
    "# To ingnore warnings\n",
    "import warnings\n",
    "warnings.filterwarnings('ignore')"
   ]
  },
  {
   "cell_type": "code",
   "execution_count": 3,
   "id": "a2ef3d5d",
   "metadata": {
    "execution": {
     "iopub.execute_input": "2022-09-03T16:48:58.879900Z",
     "iopub.status.busy": "2022-09-03T16:48:58.878603Z",
     "iopub.status.idle": "2022-09-03T16:48:58.927702Z",
     "shell.execute_reply": "2022-09-03T16:48:58.926485Z"
    },
    "papermill": {
     "duration": 0.060045,
     "end_time": "2022-09-03T16:48:58.930839",
     "exception": false,
     "start_time": "2022-09-03T16:48:58.870794",
     "status": "completed"
    },
    "tags": []
   },
   "outputs": [],
   "source": [
    "# loading the train data\n",
    "raw_train = pd.read_csv('/kaggle/input/students-drop-out-prediction/train.csv')"
   ]
  },
  {
   "cell_type": "code",
   "execution_count": 4,
   "id": "f661796a",
   "metadata": {
    "execution": {
     "iopub.execute_input": "2022-09-03T16:48:58.946617Z",
     "iopub.status.busy": "2022-09-03T16:48:58.946149Z",
     "iopub.status.idle": "2022-09-03T16:48:58.978063Z",
     "shell.execute_reply": "2022-09-03T16:48:58.977057Z"
    },
    "papermill": {
     "duration": 0.043024,
     "end_time": "2022-09-03T16:48:58.980862",
     "exception": false,
     "start_time": "2022-09-03T16:48:58.937838",
     "status": "completed"
    },
    "tags": []
   },
   "outputs": [
    {
     "name": "stdout",
     "output_type": "stream",
     "text": [
      "<class 'pandas.core.frame.DataFrame'>\n",
      "RangeIndex: 3796 entries, 0 to 3795\n",
      "Data columns (total 43 columns):\n",
      " #   Column  Non-Null Count  Dtype  \n",
      "---  ------  --------------  -----  \n",
      " 0   id      3796 non-null   int64  \n",
      " 1   v_21    3796 non-null   int64  \n",
      " 2   v_32    3796 non-null   int64  \n",
      " 3   v_15    3796 non-null   int64  \n",
      " 4   v_4     3796 non-null   int64  \n",
      " 5   v_1     3796 non-null   int64  \n",
      " 6   v_8     3796 non-null   int64  \n",
      " 7   v_12    3796 non-null   int64  \n",
      " 8   v_25    3796 non-null   int64  \n",
      " 9   v_20    3796 non-null   int64  \n",
      " 10  v_18    3796 non-null   int64  \n",
      " 11  v_3     3796 non-null   int64  \n",
      " 12  v_11    3796 non-null   int64  \n",
      " 13  v_14    3796 non-null   int64  \n",
      " 14  v_26    3796 non-null   int64  \n",
      " 15  v_27    3796 non-null   int64  \n",
      " 16  v_30    3796 non-null   int64  \n",
      " 17  v_9     3796 non-null   int64  \n",
      " 18  v_31    3796 non-null   int64  \n",
      " 19  v_28    3796 non-null   int64  \n",
      " 20  v_13    3796 non-null   int64  \n",
      " 21  v_33    3796 non-null   int64  \n",
      " 22  v_17    3796 non-null   int64  \n",
      " 23  v_19    3796 non-null   int64  \n",
      " 24  v_29    3796 non-null   int64  \n",
      " 25  v_23    3796 non-null   int64  \n",
      " 26  v_24    3796 non-null   int64  \n",
      " 27  v_10    3796 non-null   int64  \n",
      " 28  v_5     3796 non-null   int64  \n",
      " 29  v_6     3796 non-null   int64  \n",
      " 30  v_22    3796 non-null   int64  \n",
      " 31  v_0     3796 non-null   int64  \n",
      " 32  v_7     3796 non-null   float64\n",
      " 33  v_2     3796 non-null   float64\n",
      " 34  v_16    3796 non-null   float64\n",
      " 35  v_34    3796 non-null   int64  \n",
      " 36  v_35    3796 non-null   int64  \n",
      " 37  v_36    3796 non-null   int64  \n",
      " 38  v_37    3796 non-null   int64  \n",
      " 39  v_38    3796 non-null   int64  \n",
      " 40  v_39    3796 non-null   int64  \n",
      " 41  v_40    3796 non-null   int64  \n",
      " 42  label   3796 non-null   int64  \n",
      "dtypes: float64(3), int64(40)\n",
      "memory usage: 1.2 MB\n"
     ]
    }
   ],
   "source": [
    "# To check if any column has null values\n",
    "# To check type of every feature\n",
    "raw_train.info()"
   ]
  },
  {
   "cell_type": "code",
   "execution_count": 5,
   "id": "612c489d",
   "metadata": {
    "execution": {
     "iopub.execute_input": "2022-09-03T16:48:58.997758Z",
     "iopub.status.busy": "2022-09-03T16:48:58.996269Z",
     "iopub.status.idle": "2022-09-03T16:48:59.011247Z",
     "shell.execute_reply": "2022-09-03T16:48:59.009858Z"
    },
    "papermill": {
     "duration": 0.026503,
     "end_time": "2022-09-03T16:48:59.014585",
     "exception": false,
     "start_time": "2022-09-03T16:48:58.988082",
     "status": "completed"
    },
    "tags": []
   },
   "outputs": [
    {
     "data": {
      "text/plain": [
       "(3796, 43)"
      ]
     },
     "execution_count": 5,
     "metadata": {},
     "output_type": "execute_result"
    }
   ],
   "source": [
    "# To check shape of train data\n",
    "raw_train.shape"
   ]
  },
  {
   "cell_type": "code",
   "execution_count": 6,
   "id": "38e5f401",
   "metadata": {
    "execution": {
     "iopub.execute_input": "2022-09-03T16:48:59.030132Z",
     "iopub.status.busy": "2022-09-03T16:48:59.029696Z",
     "iopub.status.idle": "2022-09-03T16:48:59.038920Z",
     "shell.execute_reply": "2022-09-03T16:48:59.037155Z"
    },
    "papermill": {
     "duration": 0.020073,
     "end_time": "2022-09-03T16:48:59.041515",
     "exception": false,
     "start_time": "2022-09-03T16:48:59.021442",
     "status": "completed"
    },
    "tags": []
   },
   "outputs": [
    {
     "data": {
      "text/plain": [
       "1    1863\n",
       "0    1243\n",
       "2     690\n",
       "Name: label, dtype: int64"
      ]
     },
     "execution_count": 6,
     "metadata": {},
     "output_type": "execute_result"
    }
   ],
   "source": [
    "#chacking the number of classes and distribution of classes\n",
    "raw_train[\"label\"].value_counts() # It is Multiclass classification problem with three classes"
   ]
  },
  {
   "cell_type": "code",
   "execution_count": 7,
   "id": "da787740",
   "metadata": {
    "execution": {
     "iopub.execute_input": "2022-09-03T16:48:59.056969Z",
     "iopub.status.busy": "2022-09-03T16:48:59.056558Z",
     "iopub.status.idle": "2022-09-03T16:49:00.045400Z",
     "shell.execute_reply": "2022-09-03T16:49:00.044250Z"
    },
    "papermill": {
     "duration": 1.001009,
     "end_time": "2022-09-03T16:49:00.049323",
     "exception": false,
     "start_time": "2022-09-03T16:48:59.048314",
     "status": "completed"
    },
    "tags": []
   },
   "outputs": [
    {
     "data": {
      "image/png": "[encoded data removed]",
      "text/plain": [
       "<Figure size 2160x1080 with 1 Axes>"
      ]
     },
     "metadata": {
      "needs_background": "light"
     },
     "output_type": "display_data"
    }
   ],
   "source": [
    "raw_train[raw_train.columns[1:]].boxplot(figsize=(30,15), patch_artist=True);  #checking distribution and outliers in data\n",
    "plt.show()"
   ]
  },
  {
   "cell_type": "code",
   "execution_count": 8,
   "id": "a25e7225",
   "metadata": {
    "execution": {
     "iopub.execute_input": "2022-09-03T16:49:00.065930Z",
     "iopub.status.busy": "2022-09-03T16:49:00.065520Z",
     "iopub.status.idle": "2022-09-03T16:49:05.224362Z",
     "shell.execute_reply": "2022-09-03T16:49:05.223357Z"
    },
    "papermill": {
     "duration": 5.170067,
     "end_time": "2022-09-03T16:49:05.226791",
     "exception": false,
     "start_time": "2022-09-03T16:49:00.056724",
     "status": "completed"
    },
    "tags": []
   },
   "outputs": [
    {
     "data": {
      "image/png": "[encoded data removed]",
      "text/plain": [
       "<Figure size 2160x1080 with 42 Axes>"
      ]
     },
     "metadata": {
      "needs_background": "light"
     },
     "output_type": "display_data"
    }
   ],
   "source": [
    "raw_train[raw_train.columns[1:]].hist(figsize=(30,15))\n",
    "plt.show()"
   ]
  },
  {
   "cell_type": "code",
   "execution_count": 9,
   "id": "fbbc3a01",
   "metadata": {
    "execution": {
     "iopub.execute_input": "2022-09-03T16:49:05.247102Z",
     "iopub.status.busy": "2022-09-03T16:49:05.246498Z",
     "iopub.status.idle": "2022-09-03T16:49:05.989050Z",
     "shell.execute_reply": "2022-09-03T16:49:05.987354Z"
    },
    "papermill": {
     "duration": 0.756136,
     "end_time": "2022-09-03T16:49:05.991958",
     "exception": false,
     "start_time": "2022-09-03T16:49:05.235822",
     "status": "completed"
    },
    "tags": []
   },
   "outputs": [
    {
     "data": {
      "text/plain": [
       "<AxesSubplot:>"
      ]
     },
     "execution_count": 9,
     "metadata": {},
     "output_type": "execute_result"
    },
    {
     "data": {
      "image/png": "[encoded data removed]",
      "text/plain": [
       "<Figure size 720x576 with 2 Axes>"
      ]
     },
     "metadata": {
      "needs_background": "light"
     },
     "output_type": "display_data"
    }
   ],
   "source": [
    "plt.subplots(figsize=(10,8)) # checking the correlation between variables\n",
    "sns.heatmap(raw_train.corr())"
   ]
  },
  {
   "cell_type": "code",
   "execution_count": 10,
   "id": "eae6bfbe",
   "metadata": {
    "execution": {
     "iopub.execute_input": "2022-09-03T16:49:06.016216Z",
     "iopub.status.busy": "2022-09-03T16:49:06.015739Z",
     "iopub.status.idle": "2022-09-03T16:49:06.023992Z",
     "shell.execute_reply": "2022-09-03T16:49:06.022982Z"
    },
    "papermill": {
     "duration": 0.024431,
     "end_time": "2022-09-03T16:49:06.026442",
     "exception": false,
     "start_time": "2022-09-03T16:49:06.002011",
     "status": "completed"
    },
    "tags": []
   },
   "outputs": [],
   "source": [
    "X = raw_train.drop(columns=[\"id\", \"label\"]).to_numpy()   #assigning features and labels\n",
    "y = raw_train[\"label\"].to_numpy()"
   ]
  },
  {
   "cell_type": "code",
   "execution_count": 11,
   "id": "5a3daf53",
   "metadata": {
    "execution": {
     "iopub.execute_input": "2022-09-03T16:49:06.048236Z",
     "iopub.status.busy": "2022-09-03T16:49:06.047515Z",
     "iopub.status.idle": "2022-09-03T16:49:06.059992Z",
     "shell.execute_reply": "2022-09-03T16:49:06.058718Z"
    },
    "papermill": {
     "duration": 0.026689,
     "end_time": "2022-09-03T16:49:06.062748",
     "exception": false,
     "start_time": "2022-09-03T16:49:06.036059",
     "status": "completed"
    },
    "tags": []
   },
   "outputs": [],
   "source": [
    "#spiting the data into train and test set to check the performance of the models\n",
    "X_train, X_test, y_train, y_test = train_test_split(X, y, test_size = 0.2, random_state = 420)\n",
    "\n",
    "min_max = MinMaxScaler()                     #Use MinMaxScaler to Scale the data\n",
    "X_train_mm = min_max.fit_transform(X_train)\n",
    "X_test_mm = min_max.transform(X_test)\n",
    "\n",
    "std_scl = StandardScaler()                  #Use StandardScaler to Scale the data\n",
    "X_train_ss = std_scl.fit_transform(X_train)\n",
    "X_test_ss = std_scl.transform(X_test)"
   ]
  },
  {
   "cell_type": "code",
   "execution_count": 12,
   "id": "5fed3112",
   "metadata": {
    "execution": {
     "iopub.execute_input": "2022-09-03T16:49:06.083816Z",
     "iopub.status.busy": "2022-09-03T16:49:06.083183Z",
     "iopub.status.idle": "2022-09-03T16:49:06.089096Z",
     "shell.execute_reply": "2022-09-03T16:49:06.088197Z"
    },
    "papermill": {
     "duration": 0.018776,
     "end_time": "2022-09-03T16:49:06.091122",
     "exception": false,
     "start_time": "2022-09-03T16:49:06.072346",
     "status": "completed"
    },
    "tags": []
   },
   "outputs": [],
   "source": [
    "# For developing a baseline\n",
    "models = {\"Logistic Regression\": LogisticRegression(), \n",
    "          \"Random Forest\": RandomForestClassifier(),\n",
    "          \"Gradient Boost\": GradientBoostingClassifier(),\n",
    "          \"SGD\": SGDClassifier(),\n",
    "          \"XG Boost\": xg.XGBClassifier(),\n",
    "          \"Ada Boost\": AdaBoostClassifier(),\n",
    "          \"NN Perceptron\": MLPClassifier(),\n",
    "        #   \"Naive Bayes\": MultinomialNB(),\n",
    "          }"
   ]
  },
  {
   "cell_type": "code",
   "execution_count": 13,
   "id": "7435e27e",
   "metadata": {
    "execution": {
     "iopub.execute_input": "2022-09-03T16:49:06.112319Z",
     "iopub.status.busy": "2022-09-03T16:49:06.111654Z",
     "iopub.status.idle": "2022-09-03T16:49:45.941104Z",
     "shell.execute_reply": "2022-09-03T16:49:45.939233Z"
    },
    "papermill": {
     "duration": 39.852148,
     "end_time": "2022-09-03T16:49:45.952732",
     "exception": false,
     "start_time": "2022-09-03T16:49:06.100584",
     "status": "completed"
    },
    "tags": []
   },
   "outputs": [
    {
     "name": "stdout",
     "output_type": "stream",
     "text": [
      "----- Logistic Regression -----\n",
      "\tTrain Performance normal vs minmax vs standardscalar\n",
      "\t- Accuracy : 0.7164, 0.7434, 0.7484\n",
      "\t- Precision : 0.7164, 0.7263, 0.733\n",
      "\t- Recall : 0.7164, 0.7434, 0.7484\n",
      "\t- F1 : 0.7164, 0.722, 0.7314\n",
      "\tTest Performance normal vs minmax vs standardscalar\n",
      "\t- Accuracy : 0.7026, 0.725, 0.7171\n",
      "\t- Precision : 0.7026, 0.6919, 0.6895\n",
      "\t- Recall : 0.7026, 0.725, 0.7171\n",
      "\t- F1 : 0.7026, 0.6982, 0.6968\n",
      "\n",
      "----- Random Forest -----\n",
      "\tTrain Performance normal vs minmax vs standardscalar\n",
      "\t- Accuracy : 1.0, 1.0, 1.0\n",
      "\t- Precision : 1.0, 1.0, 1.0\n",
      "\t- Recall : 1.0, 1.0, 1.0\n",
      "\t- F1 : 1.0, 1.0, 1.0\n",
      "\tTest Performance normal vs minmax vs standardscalar\n",
      "\t- Accuracy : 0.7382, 0.7303, 0.7382\n",
      "\t- Precision : 0.7382, 0.6997, 0.7065\n",
      "\t- Recall : 0.7382, 0.7303, 0.7382\n",
      "\t- F1 : 0.7382, 0.704, 0.7074\n",
      "\n",
      "----- Gradient Boost -----\n",
      "\tTrain Performance normal vs minmax vs standardscalar\n",
      "\t- Accuracy : 0.8422, 0.8422, 0.8422\n",
      "\t- Precision : 0.8422, 0.8421, 0.8421\n",
      "\t- Recall : 0.8422, 0.8422, 0.8422\n",
      "\t- F1 : 0.8422, 0.836, 0.836\n",
      "\tTest Performance normal vs minmax vs standardscalar\n",
      "\t- Accuracy : 0.7408, 0.7408, 0.7408\n",
      "\t- Precision : 0.7408, 0.7174, 0.7174\n",
      "\t- Recall : 0.7408, 0.7408, 0.7408\n",
      "\t- F1 : 0.7408, 0.7197, 0.7197\n",
      "\n",
      "----- SGD -----\n",
      "\tTrain Performance normal vs minmax vs standardscalar\n",
      "\t- Accuracy : 0.5929, 0.7391, 0.7125\n",
      "\t- Precision : 0.5929, 0.7166, 0.6835\n",
      "\t- Recall : 0.5929, 0.7391, 0.7125\n",
      "\t- F1 : 0.5929, 0.7086, 0.6842\n",
      "\tTest Performance normal vs minmax vs standardscalar\n",
      "\t- Accuracy : 0.6303, 0.7184, 0.7013\n",
      "\t- Precision : 0.6303, 0.6723, 0.6534\n",
      "\t- Recall : 0.6303, 0.7184, 0.7013\n",
      "\t- F1 : 0.6303, 0.6801, 0.67\n",
      "\n",
      "----- XG Boost -----\n",
      "\tTrain Performance normal vs minmax vs standardscalar\n",
      "\t- Accuracy : 1.0, 1.0, 1.0\n",
      "\t- Precision : 1.0, 1.0, 1.0\n",
      "\t- Recall : 1.0, 1.0, 1.0\n",
      "\t- F1 : 1.0, 1.0, 1.0\n",
      "\tTest Performance normal vs minmax vs standardscalar\n",
      "\t- Accuracy : 0.7513, 0.7513, 0.75\n",
      "\t- Precision : 0.7513, 0.7304, 0.729\n",
      "\t- Recall : 0.7513, 0.7513, 0.75\n",
      "\t- F1 : 0.7513, 0.7353, 0.7341\n",
      "\n",
      "----- Ada Boost -----\n",
      "\tTrain Performance normal vs minmax vs standardscalar\n",
      "\t- Accuracy : 0.7451, 0.7451, 0.7451\n",
      "\t- Precision : 0.7451, 0.7327, 0.7327\n",
      "\t- Recall : 0.7451, 0.7451, 0.7451\n",
      "\t- F1 : 0.7451, 0.7334, 0.7334\n",
      "\tTest Performance normal vs minmax vs standardscalar\n",
      "\t- Accuracy : 0.725, 0.725, 0.725\n",
      "\t- Precision : 0.725, 0.7085, 0.7085\n",
      "\t- Recall : 0.725, 0.725, 0.725\n",
      "\t- F1 : 0.725, 0.7128, 0.7128\n",
      "\n",
      "----- NN Perceptron -----\n",
      "\tTrain Performance normal vs minmax vs standardscalar\n",
      "\t- Accuracy : 0.7691, 0.8228, 0.9499\n",
      "\t- Precision : 0.7691, 0.8203, 0.9502\n",
      "\t- Recall : 0.7691, 0.8228, 0.9499\n",
      "\t- F1 : 0.7691, 0.8164, 0.9493\n",
      "\tTest Performance normal vs minmax vs standardscalar\n",
      "\t- Accuracy : 0.7039, 0.7145, 0.7026\n",
      "\t- Precision : 0.7039, 0.6939, 0.6922\n",
      "\t- Recall : 0.7039, 0.7145, 0.7026\n",
      "\t- F1 : 0.7039, 0.6985, 0.6967\n",
      "\n"
     ]
    }
   ],
   "source": [
    "for model_name in models:\n",
    "    model = models[model_name]\n",
    "    \n",
    "    model.fit(X_train, y_train)\n",
    "    y_train_pred = model.predict(X_train)\n",
    "    y_test_pred = model.predict(X_test)\n",
    "    \n",
    "    model.fit(X_train_mm, y_train)\n",
    "    y_train_pred_mm = model.predict(X_train_mm)\n",
    "    y_test_pred_mm = model.predict(X_test_mm)\n",
    "    \n",
    "    model.fit(X_train_ss, y_train)\n",
    "    y_train_pred_ss = model.predict(X_train_ss)\n",
    "    y_test_pred_ss = model.predict(X_test_ss)\n",
    "\n",
    "    print(f\"{'-'*5} {model_name} {'-'*5}\")\n",
    "    print(f\"\\tTrain Performance normal vs minmax vs standardscalar\")\n",
    "    print(f\"\\t- Accuracy : {round(accuracy_score(y_train, y_train_pred), 4)}, {round(accuracy_score(y_train, y_train_pred_mm), 4)}, {round(accuracy_score(y_train, y_train_pred_ss), 4)}\")\n",
    "    print(f\"\\t- Precision : {round(precision_score(y_train, y_train_pred, average='micro'), 4)}, {round(precision_score(y_train, y_train_pred_mm, average='weighted'), 4)}, {round(precision_score(y_train, y_train_pred_ss, average='weighted'), 4)}\")\n",
    "    print(f\"\\t- Recall : {round(recall_score(y_train, y_train_pred, average='micro'), 4)}, {round(recall_score(y_train, y_train_pred_mm, average='weighted'), 4)}, {round(recall_score(y_train, y_train_pred_ss, average='weighted'), 4)}\")\n",
    "    print(f\"\\t- F1 : {round(f1_score(y_train, y_train_pred, average='micro'), 4)}, {round(f1_score(y_train, y_train_pred_mm, average='weighted'), 4)}, {round(f1_score(y_train, y_train_pred_ss, average='weighted'), 4)}\")\n",
    "    print(f\"\\tTest Performance normal vs minmax vs standardscalar\")\n",
    "    print(f\"\\t- Accuracy : {round(accuracy_score(y_test, y_test_pred), 4)}, {round(accuracy_score(y_test, y_test_pred_mm), 4)}, {round(accuracy_score(y_test, y_test_pred_ss), 4)}\")\n",
    "    print(f\"\\t- Precision : {round(precision_score(y_test, y_test_pred, average='micro'), 4)}, {round(precision_score(y_test, y_test_pred_mm, average='weighted'), 4)}, {round(precision_score(y_test, y_test_pred_ss, average='weighted'), 4)}\")\n",
    "    print(f\"\\t- Recall : {round(recall_score(y_test, y_test_pred, average='micro'), 4)}, {round(recall_score(y_test, y_test_pred_mm, average='weighted'), 4)}, {round(recall_score(y_test, y_test_pred_ss, average='weighted'), 4)}\")\n",
    "    print(f\"\\t- F1 : {round(f1_score(y_test, y_test_pred, average='micro'), 4)}, {round(f1_score(y_test, y_test_pred_mm, average='weighted'), 4)}, {round(f1_score(y_test, y_test_pred_ss, average='weighted'), 4)}\", end=\"\\n\\n\")"
   ]
  },
  {
   "cell_type": "code",
   "execution_count": 14,
   "id": "b32115ed",
   "metadata": {
    "execution": {
     "iopub.execute_input": "2022-09-03T16:49:45.978305Z",
     "iopub.status.busy": "2022-09-03T16:49:45.977821Z",
     "iopub.status.idle": "2022-09-03T16:49:45.993754Z",
     "shell.execute_reply": "2022-09-03T16:49:45.992512Z"
    },
    "papermill": {
     "duration": 0.042856,
     "end_time": "2022-09-03T16:49:46.006303",
     "exception": false,
     "start_time": "2022-09-03T16:49:45.963447",
     "status": "completed"
    },
    "tags": []
   },
   "outputs": [],
   "source": [
    "# XGboost and gradient boost have good accuracy based on baseline\n",
    "# tune the models with hyperparameters for better accuracy\n",
    "\n",
    "lr_params = {\"penalty\": [\"l1\", \"l2\"], \n",
    "             \"C\": [0, 0.25, 0.5, 0.75, 1],\n",
    "             \"max_iter\": [250]}\n",
    "rf_params = {\"criterion\": [\"gini\", \"entropy\"], \n",
    "             \"max_depth\": [2, 5, 7, 10],'n_estimators':[50, 100, 200],\n",
    "             \"min_samples_split\": [2, 4, 6]}\n",
    "gb_params = {\"n_estimators\": [50,100, 200],\n",
    "             \"max_depth\": [2, 5, 7, 10], \"min_samples_split\": [2, 4, 6]}\n",
    "sd_params = {\"l1_ratio\": [i/10 for i in range(11)],\n",
    "             \"max_iter\": [1000, 1500, 2000]}\n",
    "xd_params = {\"max_depth\": list(range(1, 11)),\n",
    "             'n_estimators':[50,80,100]}\n",
    "ad_params = {\"n_estimators\": list(range(50, 251, 50)), \n",
    "             \"learning_rate\": [i/10 for i in range(11)]}\n",
    "nn_params = {\"hidden_layer_sizes\": [(100,), (10, 2), (50, 2), (2, 50)], \n",
    "             \"early_stopping\": [True, False]}\n",
    "\n",
    "models_params = [(\"Logistic Regression\", LogisticRegression(), lr_params), \n",
    "                 (\"Random Forest\", RandomForestClassifier(), rf_params),\n",
    "                 (\"Gradient Boost\", GradientBoostingClassifier(), gb_params),\n",
    "                 (\"SGD\", SGDClassifier(), sd_params),\n",
    "                 (\"XG Boost\", xg.XGBClassifier(), xd_params),\n",
    "                 (\"Ada Boost\", AdaBoostClassifier(), ad_params),\n",
    "                 (\"NN Perceptron\", MLPClassifier(), nn_params)]"
   ]
  },
  {
   "cell_type": "code",
   "execution_count": 15,
   "id": "978b7fdd",
   "metadata": {
    "execution": {
     "iopub.execute_input": "2022-09-03T16:49:46.037582Z",
     "iopub.status.busy": "2022-09-03T16:49:46.037051Z",
     "iopub.status.idle": "2022-09-03T17:09:48.387445Z",
     "shell.execute_reply": "2022-09-03T17:09:48.386060Z"
    },
    "papermill": {
     "duration": 1202.393829,
     "end_time": "2022-09-03T17:09:48.417994",
     "exception": false,
     "start_time": "2022-09-03T16:49:46.024165",
     "status": "completed"
    },
    "tags": []
   },
   "outputs": [
    {
     "name": "stdout",
     "output_type": "stream",
     "text": [
      "----- Logistic Regression -----\n",
      "\tTrain Performance normal vs minmax vs standardscalar\n",
      "\t- Accuracy : 0.7283, 0.7434, 0.7484\n",
      "\tTest Performance normal vs minmax vs standardscalar\n",
      "\t- Accuracy : 0.7079, 0.725, 0.7184\n",
      "\n",
      "----- Random Forest -----\n",
      "\tTrain Performance normal vs minmax vs standardscalar\n",
      "\t- Accuracy : 0.9134, 0.9005, 0.9035\n",
      "\tTest Performance normal vs minmax vs standardscalar\n",
      "\t- Accuracy : 0.7368, 0.7342, 0.7355\n",
      "\n",
      "----- Gradient Boost -----\n",
      "\tTrain Performance normal vs minmax vs standardscalar\n",
      "\t- Accuracy : 0.8182, 0.8202, 0.8202\n",
      "\tTest Performance normal vs minmax vs standardscalar\n",
      "\t- Accuracy : 0.7487, 0.7408, 0.7421\n",
      "\n",
      "----- SGD -----\n",
      "\tTrain Performance normal vs minmax vs standardscalar\n",
      "\t- Accuracy : 0.6123, 0.726, 0.7115\n",
      "\tTest Performance normal vs minmax vs standardscalar\n",
      "\t- Accuracy : 0.5855, 0.7118, 0.7118\n",
      "\n",
      "----- XG Boost -----\n",
      "\tTrain Performance normal vs minmax vs standardscalar\n",
      "\t- Accuracy : 0.8804, 0.8804, 0.8804\n",
      "\tTest Performance normal vs minmax vs standardscalar\n",
      "\t- Accuracy : 0.7539, 0.7539, 0.7539\n",
      "\n",
      "----- Ada Boost -----\n",
      "\tTrain Performance normal vs minmax vs standardscalar\n",
      "\t- Accuracy : 0.7694, 0.7694, 0.7694\n",
      "\tTest Performance normal vs minmax vs standardscalar\n",
      "\t- Accuracy : 0.7355, 0.7355, 0.7355\n",
      "\n",
      "----- NN Perceptron -----\n",
      "\tTrain Performance normal vs minmax vs standardscalar\n",
      "\t- Accuracy : 0.6877, 0.8254, 0.7764\n",
      "\tTest Performance normal vs minmax vs standardscalar\n",
      "\t- Accuracy : 0.6737, 0.7342, 0.7303\n",
      "\n"
     ]
    }
   ],
   "source": [
    "best_model_params = {}\n",
    "best_model_params_mm = {}\n",
    "best_model_params_ss = {}\n",
    "\n",
    "for model_name, model, params in models_params:\n",
    "    gscv = GridSearchCV(estimator=model, \n",
    "                        param_grid=params, scoring='accuracy', n_jobs=-1, cv=3)\n",
    "\n",
    "    gscv.fit(X_train, y_train)\n",
    "    y_train_pred = gscv.predict(X_train)\n",
    "    y_test_pred = gscv.predict(X_test)\n",
    "    best_model_params[model_name] = gscv.best_params_\n",
    "    \n",
    "    gscv.fit(X_train_mm, y_train)\n",
    "    y_train_pred_mm = gscv.predict(X_train_mm)\n",
    "    y_test_pred_mm = gscv.predict(X_test_mm)\n",
    "    best_model_params_mm[model_name] = gscv.best_params_\n",
    "\n",
    "    gscv.fit(X_train_ss, y_train)\n",
    "    y_train_pred_ss = gscv.predict(X_train_ss)\n",
    "    y_test_pred_ss = gscv.predict(X_test_ss)\n",
    "    best_model_params_ss[model_name] = gscv.best_params_\n",
    "\n",
    "\n",
    "    print(f\"{'-'*5} {model_name} {'-'*5}\")\n",
    "    print(f\"\\tTrain Performance normal vs minmax vs standardscalar\")\n",
    "    print(f\"\\t- Accuracy : {round(accuracy_score(y_train, y_train_pred), 4)}, {round(accuracy_score(y_train, y_train_pred_mm), 4)}, {round(accuracy_score(y_train, y_train_pred_ss), 4)}\")\n",
    "    print(f\"\\tTest Performance normal vs minmax vs standardscalar\")\n",
    "    print(f\"\\t- Accuracy : {round(accuracy_score(y_test, y_test_pred), 4)}, {round(accuracy_score(y_test, y_test_pred_mm), 4)}, {round(accuracy_score(y_test, y_test_pred_ss), 4)}\", end=\"\\n\\n\")"
   ]
  },
  {
   "cell_type": "code",
   "execution_count": 16,
   "id": "7dba539d",
   "metadata": {
    "execution": {
     "iopub.execute_input": "2022-09-03T17:09:48.469091Z",
     "iopub.status.busy": "2022-09-03T17:09:48.468382Z",
     "iopub.status.idle": "2022-09-03T17:09:48.490184Z",
     "shell.execute_reply": "2022-09-03T17:09:48.488630Z"
    },
    "papermill": {
     "duration": 0.052822,
     "end_time": "2022-09-03T17:09:48.494895",
     "exception": false,
     "start_time": "2022-09-03T17:09:48.442073",
     "status": "completed"
    },
    "tags": []
   },
   "outputs": [
    {
     "data": {
      "text/plain": [
       "{'Logistic Regression': {'C': 0.25, 'max_iter': 250, 'penalty': 'l2'},\n",
       " 'Random Forest': {'criterion': 'entropy',\n",
       "  'max_depth': 10,\n",
       "  'min_samples_split': 4,\n",
       "  'n_estimators': 50},\n",
       " 'Gradient Boost': {'max_depth': 2,\n",
       "  'min_samples_split': 6,\n",
       "  'n_estimators': 200},\n",
       " 'SGD': {'l1_ratio': 0.4, 'max_iter': 1000},\n",
       " 'XG Boost': {'max_depth': 3, 'n_estimators': 80},\n",
       " 'Ada Boost': {'learning_rate': 0.4, 'n_estimators': 200},\n",
       " 'NN Perceptron': {'early_stopping': True, 'hidden_layer_sizes': (100,)}}"
      ]
     },
     "execution_count": 16,
     "metadata": {},
     "output_type": "execute_result"
    }
   ],
   "source": [
    "best_model_params"
   ]
  },
  {
   "cell_type": "code",
   "execution_count": 17,
   "id": "a3b19864",
   "metadata": {
    "execution": {
     "iopub.execute_input": "2022-09-03T17:09:48.519349Z",
     "iopub.status.busy": "2022-09-03T17:09:48.518893Z",
     "iopub.status.idle": "2022-09-03T17:09:48.526892Z",
     "shell.execute_reply": "2022-09-03T17:09:48.525970Z"
    },
    "papermill": {
     "duration": 0.021649,
     "end_time": "2022-09-03T17:09:48.528985",
     "exception": false,
     "start_time": "2022-09-03T17:09:48.507336",
     "status": "completed"
    },
    "tags": []
   },
   "outputs": [
    {
     "data": {
      "text/plain": [
       "{'Logistic Regression': {'C': 0.25, 'max_iter': 250, 'penalty': 'l2'},\n",
       " 'Random Forest': {'criterion': 'entropy',\n",
       "  'max_depth': 10,\n",
       "  'min_samples_split': 6,\n",
       "  'n_estimators': 200},\n",
       " 'Gradient Boost': {'max_depth': 2,\n",
       "  'min_samples_split': 2,\n",
       "  'n_estimators': 200},\n",
       " 'SGD': {'l1_ratio': 0.5, 'max_iter': 1500},\n",
       " 'XG Boost': {'max_depth': 3, 'n_estimators': 80},\n",
       " 'Ada Boost': {'learning_rate': 0.4, 'n_estimators': 200},\n",
       " 'NN Perceptron': {'early_stopping': True, 'hidden_layer_sizes': (100,)}}"
      ]
     },
     "execution_count": 17,
     "metadata": {},
     "output_type": "execute_result"
    }
   ],
   "source": [
    "best_model_params_ss"
   ]
  },
  {
   "cell_type": "code",
   "execution_count": 18,
   "id": "a5c745da",
   "metadata": {
    "execution": {
     "iopub.execute_input": "2022-09-03T17:09:48.552994Z",
     "iopub.status.busy": "2022-09-03T17:09:48.552216Z",
     "iopub.status.idle": "2022-09-03T17:09:48.559306Z",
     "shell.execute_reply": "2022-09-03T17:09:48.558440Z"
    },
    "papermill": {
     "duration": 0.021784,
     "end_time": "2022-09-03T17:09:48.561468",
     "exception": false,
     "start_time": "2022-09-03T17:09:48.539684",
     "status": "completed"
    },
    "tags": []
   },
   "outputs": [
    {
     "data": {
      "text/plain": [
       "{'Logistic Regression': {'C': 1, 'max_iter': 250, 'penalty': 'l2'},\n",
       " 'Random Forest': {'criterion': 'entropy',\n",
       "  'max_depth': 10,\n",
       "  'min_samples_split': 6,\n",
       "  'n_estimators': 50},\n",
       " 'Gradient Boost': {'max_depth': 2,\n",
       "  'min_samples_split': 2,\n",
       "  'n_estimators': 200},\n",
       " 'SGD': {'l1_ratio': 0.8, 'max_iter': 2000},\n",
       " 'XG Boost': {'max_depth': 3, 'n_estimators': 80},\n",
       " 'Ada Boost': {'learning_rate': 0.4, 'n_estimators': 200},\n",
       " 'NN Perceptron': {'early_stopping': False, 'hidden_layer_sizes': (100,)}}"
      ]
     },
     "execution_count": 18,
     "metadata": {},
     "output_type": "execute_result"
    }
   ],
   "source": [
    "best_model_params_mm"
   ]
  },
  {
   "cell_type": "code",
   "execution_count": 19,
   "id": "994663da",
   "metadata": {
    "execution": {
     "iopub.execute_input": "2022-09-03T17:09:48.585233Z",
     "iopub.status.busy": "2022-09-03T17:09:48.584496Z",
     "iopub.status.idle": "2022-09-03T17:09:49.363112Z",
     "shell.execute_reply": "2022-09-03T17:09:49.361819Z"
    },
    "papermill": {
     "duration": 0.794103,
     "end_time": "2022-09-03T17:09:49.366223",
     "exception": false,
     "start_time": "2022-09-03T17:09:48.572120",
     "status": "completed"
    },
    "tags": []
   },
   "outputs": [
    {
     "name": "stdout",
     "output_type": "stream",
     "text": [
      "training score:  0.8804347826086957\n",
      "testing Score:  0.7539473684210526\n"
     ]
    }
   ],
   "source": [
    "xgb = xg.XGBClassifier(max_depth= 3, n_estimators = 80)\n",
    "xgb.fit(X_train, y_train)\n",
    "print('training score: ',xgb.score(X_train, y_train))\n",
    "print('testing Score: ', xgb.score(X_test, y_test))"
   ]
  },
  {
   "cell_type": "code",
   "execution_count": 20,
   "id": "b209d07c",
   "metadata": {
    "execution": {
     "iopub.execute_input": "2022-09-03T17:09:49.393618Z",
     "iopub.status.busy": "2022-09-03T17:09:49.392715Z",
     "iopub.status.idle": "2022-09-03T17:09:49.446939Z",
     "shell.execute_reply": "2022-09-03T17:09:49.445474Z"
    },
    "papermill": {
     "duration": 0.071206,
     "end_time": "2022-09-03T17:09:49.449936",
     "exception": false,
     "start_time": "2022-09-03T17:09:49.378730",
     "status": "completed"
    },
    "tags": []
   },
   "outputs": [
    {
     "data": {
      "text/html": [
       "<div>\n",
       "<style scoped>\n",
       "    .dataframe tbody tr th:only-of-type {\n",
       "        vertical-align: middle;\n",
       "    }\n",
       "\n",
       "    .dataframe tbody tr th {\n",
       "        vertical-align: top;\n",
       "    }\n",
       "\n",
       "    .dataframe thead th {\n",
       "        text-align: right;\n",
       "    }\n",
       "</style>\n",
       "<table border=\"1\" class=\"dataframe\">\n",
       "  <thead>\n",
       "    <tr style=\"text-align: right;\">\n",
       "      <th></th>\n",
       "      <th>v_21</th>\n",
       "      <th>v_32</th>\n",
       "      <th>v_15</th>\n",
       "      <th>v_4</th>\n",
       "      <th>v_1</th>\n",
       "      <th>v_8</th>\n",
       "      <th>v_12</th>\n",
       "      <th>v_25</th>\n",
       "      <th>v_20</th>\n",
       "      <th>v_18</th>\n",
       "      <th>...</th>\n",
       "      <th>v_7</th>\n",
       "      <th>v_2</th>\n",
       "      <th>v_16</th>\n",
       "      <th>v_34</th>\n",
       "      <th>v_35</th>\n",
       "      <th>v_36</th>\n",
       "      <th>v_37</th>\n",
       "      <th>v_38</th>\n",
       "      <th>v_39</th>\n",
       "      <th>v_40</th>\n",
       "    </tr>\n",
       "  </thead>\n",
       "  <tbody>\n",
       "    <tr>\n",
       "      <th>0</th>\n",
       "      <td>9</td>\n",
       "      <td>90</td>\n",
       "      <td>15</td>\n",
       "      <td>121</td>\n",
       "      <td>1</td>\n",
       "      <td>8</td>\n",
       "      <td>23</td>\n",
       "      <td>114</td>\n",
       "      <td>256</td>\n",
       "      <td>108</td>\n",
       "      <td>...</td>\n",
       "      <td>10.8</td>\n",
       "      <td>10.4</td>\n",
       "      <td>6.74</td>\n",
       "      <td>4</td>\n",
       "      <td>96</td>\n",
       "      <td>36</td>\n",
       "      <td>34</td>\n",
       "      <td>23</td>\n",
       "      <td>72</td>\n",
       "      <td>5</td>\n",
       "    </tr>\n",
       "    <tr>\n",
       "      <th>1</th>\n",
       "      <td>7</td>\n",
       "      <td>123</td>\n",
       "      <td>14</td>\n",
       "      <td>126</td>\n",
       "      <td>1</td>\n",
       "      <td>5</td>\n",
       "      <td>19</td>\n",
       "      <td>3</td>\n",
       "      <td>40</td>\n",
       "      <td>261</td>\n",
       "      <td>...</td>\n",
       "      <td>19.4</td>\n",
       "      <td>0.5</td>\n",
       "      <td>6.79</td>\n",
       "      <td>15</td>\n",
       "      <td>78</td>\n",
       "      <td>12</td>\n",
       "      <td>25</td>\n",
       "      <td>27</td>\n",
       "      <td>67</td>\n",
       "      <td>12</td>\n",
       "    </tr>\n",
       "    <tr>\n",
       "      <th>2</th>\n",
       "      <td>3</td>\n",
       "      <td>6</td>\n",
       "      <td>10</td>\n",
       "      <td>102</td>\n",
       "      <td>1</td>\n",
       "      <td>1</td>\n",
       "      <td>16</td>\n",
       "      <td>181</td>\n",
       "      <td>168</td>\n",
       "      <td>103</td>\n",
       "      <td>...</td>\n",
       "      <td>7.6</td>\n",
       "      <td>2.6</td>\n",
       "      <td>0.32</td>\n",
       "      <td>4</td>\n",
       "      <td>81</td>\n",
       "      <td>47</td>\n",
       "      <td>30</td>\n",
       "      <td>54</td>\n",
       "      <td>23</td>\n",
       "      <td>4</td>\n",
       "    </tr>\n",
       "    <tr>\n",
       "      <th>3</th>\n",
       "      <td>3</td>\n",
       "      <td>6</td>\n",
       "      <td>10</td>\n",
       "      <td>148</td>\n",
       "      <td>1</td>\n",
       "      <td>1</td>\n",
       "      <td>16</td>\n",
       "      <td>110</td>\n",
       "      <td>278</td>\n",
       "      <td>103</td>\n",
       "      <td>...</td>\n",
       "      <td>11.1</td>\n",
       "      <td>0.6</td>\n",
       "      <td>2.02</td>\n",
       "      <td>4</td>\n",
       "      <td>100</td>\n",
       "      <td>6</td>\n",
       "      <td>23</td>\n",
       "      <td>12</td>\n",
       "      <td>28</td>\n",
       "      <td>1</td>\n",
       "    </tr>\n",
       "    <tr>\n",
       "      <th>4</th>\n",
       "      <td>3</td>\n",
       "      <td>6</td>\n",
       "      <td>10</td>\n",
       "      <td>148</td>\n",
       "      <td>1</td>\n",
       "      <td>1</td>\n",
       "      <td>16</td>\n",
       "      <td>1</td>\n",
       "      <td>168</td>\n",
       "      <td>12</td>\n",
       "      <td>...</td>\n",
       "      <td>7.6</td>\n",
       "      <td>2.6</td>\n",
       "      <td>0.32</td>\n",
       "      <td>7</td>\n",
       "      <td>97</td>\n",
       "      <td>25</td>\n",
       "      <td>30</td>\n",
       "      <td>18</td>\n",
       "      <td>52</td>\n",
       "      <td>0</td>\n",
       "    </tr>\n",
       "    <tr>\n",
       "      <th>...</th>\n",
       "      <td>...</td>\n",
       "      <td>...</td>\n",
       "      <td>...</td>\n",
       "      <td>...</td>\n",
       "      <td>...</td>\n",
       "      <td>...</td>\n",
       "      <td>...</td>\n",
       "      <td>...</td>\n",
       "      <td>...</td>\n",
       "      <td>...</td>\n",
       "      <td>...</td>\n",
       "      <td>...</td>\n",
       "      <td>...</td>\n",
       "      <td>...</td>\n",
       "      <td>...</td>\n",
       "      <td>...</td>\n",
       "      <td>...</td>\n",
       "      <td>...</td>\n",
       "      <td>...</td>\n",
       "      <td>...</td>\n",
       "      <td>...</td>\n",
       "    </tr>\n",
       "    <tr>\n",
       "      <th>1623</th>\n",
       "      <td>4</td>\n",
       "      <td>147</td>\n",
       "      <td>10</td>\n",
       "      <td>167</td>\n",
       "      <td>0</td>\n",
       "      <td>1</td>\n",
       "      <td>16</td>\n",
       "      <td>181</td>\n",
       "      <td>251</td>\n",
       "      <td>103</td>\n",
       "      <td>...</td>\n",
       "      <td>9.4</td>\n",
       "      <td>-0.8</td>\n",
       "      <td>-3.12</td>\n",
       "      <td>4</td>\n",
       "      <td>6</td>\n",
       "      <td>46</td>\n",
       "      <td>1</td>\n",
       "      <td>13</td>\n",
       "      <td>21</td>\n",
       "      <td>5</td>\n",
       "    </tr>\n",
       "    <tr>\n",
       "      <th>1624</th>\n",
       "      <td>3</td>\n",
       "      <td>6</td>\n",
       "      <td>14</td>\n",
       "      <td>121</td>\n",
       "      <td>1</td>\n",
       "      <td>1</td>\n",
       "      <td>16</td>\n",
       "      <td>183</td>\n",
       "      <td>278</td>\n",
       "      <td>103</td>\n",
       "      <td>...</td>\n",
       "      <td>10.8</td>\n",
       "      <td>1.4</td>\n",
       "      <td>1.74</td>\n",
       "      <td>1</td>\n",
       "      <td>96</td>\n",
       "      <td>28</td>\n",
       "      <td>15</td>\n",
       "      <td>59</td>\n",
       "      <td>65</td>\n",
       "      <td>0</td>\n",
       "    </tr>\n",
       "    <tr>\n",
       "      <th>1625</th>\n",
       "      <td>3</td>\n",
       "      <td>116</td>\n",
       "      <td>10</td>\n",
       "      <td>167</td>\n",
       "      <td>0</td>\n",
       "      <td>1</td>\n",
       "      <td>16</td>\n",
       "      <td>181</td>\n",
       "      <td>251</td>\n",
       "      <td>103</td>\n",
       "      <td>...</td>\n",
       "      <td>12.7</td>\n",
       "      <td>3.7</td>\n",
       "      <td>-1.70</td>\n",
       "      <td>9</td>\n",
       "      <td>98</td>\n",
       "      <td>27</td>\n",
       "      <td>33</td>\n",
       "      <td>42</td>\n",
       "      <td>33</td>\n",
       "      <td>0</td>\n",
       "    </tr>\n",
       "    <tr>\n",
       "      <th>1626</th>\n",
       "      <td>3</td>\n",
       "      <td>6</td>\n",
       "      <td>10</td>\n",
       "      <td>76</td>\n",
       "      <td>1</td>\n",
       "      <td>1</td>\n",
       "      <td>16</td>\n",
       "      <td>5</td>\n",
       "      <td>60</td>\n",
       "      <td>11</td>\n",
       "      <td>...</td>\n",
       "      <td>11.1</td>\n",
       "      <td>0.6</td>\n",
       "      <td>2.02</td>\n",
       "      <td>5</td>\n",
       "      <td>42</td>\n",
       "      <td>45</td>\n",
       "      <td>16</td>\n",
       "      <td>55</td>\n",
       "      <td>6</td>\n",
       "      <td>2</td>\n",
       "    </tr>\n",
       "    <tr>\n",
       "      <th>1627</th>\n",
       "      <td>3</td>\n",
       "      <td>92</td>\n",
       "      <td>10</td>\n",
       "      <td>55</td>\n",
       "      <td>1</td>\n",
       "      <td>1</td>\n",
       "      <td>16</td>\n",
       "      <td>1</td>\n",
       "      <td>168</td>\n",
       "      <td>12</td>\n",
       "      <td>...</td>\n",
       "      <td>11.1</td>\n",
       "      <td>0.6</td>\n",
       "      <td>2.02</td>\n",
       "      <td>4</td>\n",
       "      <td>11</td>\n",
       "      <td>15</td>\n",
       "      <td>32</td>\n",
       "      <td>9</td>\n",
       "      <td>7</td>\n",
       "      <td>3</td>\n",
       "    </tr>\n",
       "  </tbody>\n",
       "</table>\n",
       "<p>1628 rows × 41 columns</p>\n",
       "</div>"
      ],
      "text/plain": [
       "      v_21  v_32  v_15  v_4  v_1  v_8  v_12  v_25  v_20  v_18  ...   v_7  \\\n",
       "0        9    90    15  121    1    8    23   114   256   108  ...  10.8   \n",
       "1        7   123    14  126    1    5    19     3    40   261  ...  19.4   \n",
       "2        3     6    10  102    1    1    16   181   168   103  ...   7.6   \n",
       "3        3     6    10  148    1    1    16   110   278   103  ...  11.1   \n",
       "4        3     6    10  148    1    1    16     1   168    12  ...   7.6   \n",
       "...    ...   ...   ...  ...  ...  ...   ...   ...   ...   ...  ...   ...   \n",
       "1623     4   147    10  167    0    1    16   181   251   103  ...   9.4   \n",
       "1624     3     6    14  121    1    1    16   183   278   103  ...  10.8   \n",
       "1625     3   116    10  167    0    1    16   181   251   103  ...  12.7   \n",
       "1626     3     6    10   76    1    1    16     5    60    11  ...  11.1   \n",
       "1627     3    92    10   55    1    1    16     1   168    12  ...  11.1   \n",
       "\n",
       "       v_2  v_16  v_34  v_35  v_36  v_37  v_38  v_39  v_40  \n",
       "0     10.4  6.74     4    96    36    34    23    72     5  \n",
       "1      0.5  6.79    15    78    12    25    27    67    12  \n",
       "2      2.6  0.32     4    81    47    30    54    23     4  \n",
       "3      0.6  2.02     4   100     6    23    12    28     1  \n",
       "4      2.6  0.32     7    97    25    30    18    52     0  \n",
       "...    ...   ...   ...   ...   ...   ...   ...   ...   ...  \n",
       "1623  -0.8 -3.12     4     6    46     1    13    21     5  \n",
       "1624   1.4  1.74     1    96    28    15    59    65     0  \n",
       "1625   3.7 -1.70     9    98    27    33    42    33     0  \n",
       "1626   0.6  2.02     5    42    45    16    55     6     2  \n",
       "1627   0.6  2.02     4    11    15    32     9     7     3  \n",
       "\n",
       "[1628 rows x 41 columns]"
      ]
     },
     "execution_count": 20,
     "metadata": {},
     "output_type": "execute_result"
    }
   ],
   "source": [
    "test_data = pd.read_csv('/kaggle/input/students-drop-out-prediction/test.csv')\n",
    "test_X = test_data.drop(columns = ['id'])\n",
    "test_X"
   ]
  },
  {
   "cell_type": "code",
   "execution_count": 21,
   "id": "232e7a3c",
   "metadata": {
    "execution": {
     "iopub.execute_input": "2022-09-03T17:09:49.475756Z",
     "iopub.status.busy": "2022-09-03T17:09:49.475274Z",
     "iopub.status.idle": "2022-09-03T17:09:50.353142Z",
     "shell.execute_reply": "2022-09-03T17:09:50.352081Z"
    },
    "papermill": {
     "duration": 0.893665,
     "end_time": "2022-09-03T17:09:50.355512",
     "exception": false,
     "start_time": "2022-09-03T17:09:49.461847",
     "status": "completed"
    },
    "tags": []
   },
   "outputs": [
    {
     "name": "stdout",
     "output_type": "stream",
     "text": [
      "0.8627502634351949\n"
     ]
    }
   ],
   "source": [
    "xgb = xg.XGBClassifier(max_depth= 3, n_estimators = 80, random_state = 1729)\n",
    "\n",
    "xgb_pipe = make_pipeline(StandardScaler(), xgb).fit(X,y)\n",
    "print(xgb_pipe.score(X,y))\n",
    "prediction = xgb_pipe.predict(test_X)"
   ]
  },
  {
   "cell_type": "code",
   "execution_count": 22,
   "id": "4520baa2",
   "metadata": {
    "execution": {
     "iopub.execute_input": "2022-09-03T17:09:50.382252Z",
     "iopub.status.busy": "2022-09-03T17:09:50.381235Z",
     "iopub.status.idle": "2022-09-03T17:09:50.393861Z",
     "shell.execute_reply": "2022-09-03T17:09:50.392822Z"
    },
    "papermill": {
     "duration": 0.02845,
     "end_time": "2022-09-03T17:09:50.396776",
     "exception": false,
     "start_time": "2022-09-03T17:09:50.368326",
     "status": "completed"
    },
    "tags": []
   },
   "outputs": [],
   "source": [
    "prediction = pd.DataFrame({'id':test_data.id, 'label': prediction })   # kaggle submission\n",
    "prediction.to_csv('final_submission.csv', index = False)"
   ]
  },
  {
   "cell_type": "code",
   "execution_count": null,
   "id": "b372f881",
   "metadata": {
    "papermill": {
     "duration": 0.012228,
     "end_time": "2022-09-03T17:09:50.424405",
     "exception": false,
     "start_time": "2022-09-03T17:09:50.412177",
     "status": "completed"
    },
    "tags": []
   },
   "outputs": [],
   "source": []
  }
 ],
 "metadata": {
  "kernelspec": {
   "display_name": "Python 3",
   "language": "python",
   "name": "python3"
  },
  "language_info": {
   "codemirror_mode": {
    "name": "ipython",
    "version": 3
   },
   "file_extension": ".py",
   "mimetype": "text/x-python",
   "name": "python",
   "nbconvert_exporter": "python",
   "pygments_lexer": "ipython3",
   "version": "3.7.12"
  },
  "papermill": {
   "default_parameters": {},
   "duration": 1266.360807,
   "end_time": "2022-09-03T17:09:53.064534",
   "environment_variables": {},
   "exception": null,
   "input_path": "__notebook__.ipynb",
   "output_path": "__notebook__.ipynb",
   "parameters": {},
   "start_time": "2022-09-03T16:48:46.703727",
   "version": "2.3.4"
  }
 },
 "nbformat": 4,
 "nbformat_minor": 5
}
